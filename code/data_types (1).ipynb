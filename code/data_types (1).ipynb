{
 "cells": [
  {
   "cell_type": "code",
   "execution_count": 10,
   "id": "63711232-301c-4064-ad44-d934e47bce05",
   "metadata": {},
   "outputs": [
    {
     "data": {
      "text/plain": [
       "101"
      ]
     },
     "execution_count": 10,
     "metadata": {},
     "output_type": "execute_result"
    }
   ],
   "source": [
    "#intgers\n",
    "1 + 100"
   ]
  },
  {
   "cell_type": "code",
   "execution_count": 12,
   "id": "d5df9fa0-4872-49cc-9dd5-730f9a451e3c",
   "metadata": {},
   "outputs": [
    {
     "data": {
      "text/plain": [
       "8.5"
      ]
     },
     "execution_count": 12,
     "metadata": {},
     "output_type": "execute_result"
    }
   ],
   "source": [
    "#float\n",
    "2.5 + 6"
   ]
  },
  {
   "cell_type": "code",
   "execution_count": null,
   "id": "44396a6c-d9a2-4741-a767-8483da9e337c",
   "metadata": {},
   "outputs": [],
   "source": [
    "#strings\n",
    "\"This is a string\""
   ]
  },
  {
   "cell_type": "code",
   "execution_count": 17,
   "id": "3d97f904-5e69-4466-b80d-6ed926f23c24",
   "metadata": {},
   "outputs": [
    {
     "data": {
      "text/plain": [
       "['A', 'B', 'C', 'D']"
      ]
     },
     "execution_count": 17,
     "metadata": {},
     "output_type": "execute_result"
    }
   ],
   "source": [
    "#lists\n",
    "Intgers = [0,3,5,6,5]\n",
    "Strings = ['A','B','C','D']"
   ]
  },
  {
   "cell_type": "code",
   "execution_count": 13,
   "id": "fdcb17ef-c4d0-4f6e-8ea9-9d55003b499a",
   "metadata": {},
   "outputs": [
    {
     "data": {
      "text/plain": [
       "{'Key1': 309, 'key2': 8098, 'key3': 506}"
      ]
     },
     "execution_count": 13,
     "metadata": {},
     "output_type": "execute_result"
    }
   ],
   "source": [
    "#dictionaries\n",
    "{\"Key1\":309,\"key2\":8098,\"key3\":506}"
   ]
  },
  {
   "cell_type": "code",
   "execution_count": 15,
   "id": "107db7ad-8449-4e08-b1a0-b0da18cb0fde",
   "metadata": {},
   "outputs": [
    {
     "data": {
      "text/plain": [
       "(1, 2, 3, 4)"
      ]
     },
     "execution_count": 15,
     "metadata": {},
     "output_type": "execute_result"
    }
   ],
   "source": [
    "#Tuples\n",
    "(1,2,3,4)"
   ]
  }
 ],
 "metadata": {
  "kernelspec": {
   "display_name": "Python 3 (ipykernel)",
   "language": "python",
   "name": "python3"
  },
  "language_info": {
   "codemirror_mode": {
    "name": "ipython",
    "version": 3
   },
   "file_extension": ".py",
   "mimetype": "text/x-python",
   "name": "python",
   "nbconvert_exporter": "python",
   "pygments_lexer": "ipython3",
   "version": "3.12.7"
  }
 },
 "nbformat": 4,
 "nbformat_minor": 5
}
