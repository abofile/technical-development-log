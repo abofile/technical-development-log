{
 "cells": [
  {
   "cell_type": "code",
   "execution_count": null,
   "id": "41b5665a-4f99-4132-8c2d-faca4ac528ad",
   "metadata": {},
   "outputs": [],
   "source": [
    "#lists can hold data types str float int"
   ]
  },
  {
   "cell_type": "code",
   "execution_count": 1,
   "id": "dad065b3-beb7-4f86-8d1c-6707a0e94244",
   "metadata": {},
   "outputs": [],
   "source": [
    "list1 = [2,4,3,5,4]"
   ]
  },
  {
   "cell_type": "code",
   "execution_count": 2,
   "id": "f17f3487-da01-43fb-a25d-3c45e1c4c939",
   "metadata": {},
   "outputs": [],
   "source": [
    "list2 = [\"string\",2,3.0]"
   ]
  },
  {
   "cell_type": "code",
   "execution_count": null,
   "id": "7f67a428-9f41-4f8c-9bb7-e4a06606b510",
   "metadata": {},
   "outputs": [],
   "source": [
    "# you can combine lists by addition"
   ]
  },
  {
   "cell_type": "code",
   "execution_count": 3,
   "id": "7779edfd-d76c-4443-9b96-456977927789",
   "metadata": {},
   "outputs": [],
   "source": [
    "combined_list = list1 + list2"
   ]
  },
  {
   "cell_type": "code",
   "execution_count": 4,
   "id": "d33563f3-10ed-4dff-a9bf-ec6d69e4838c",
   "metadata": {},
   "outputs": [
    {
     "data": {
      "text/plain": [
       "[2, 4, 3, 5, 4, 'string', 2, 3.0]"
      ]
     },
     "execution_count": 4,
     "metadata": {},
     "output_type": "execute_result"
    }
   ],
   "source": [
    "combined_list"
   ]
  },
  {
   "cell_type": "code",
   "execution_count": null,
   "id": "c9c186d1-97ab-4539-8cb7-5c81fd94a46d",
   "metadata": {},
   "outputs": [],
   "source": [
    "# using addition on lists dosen't mutate the list but create another one this uses more memory instead use .append unless you need a new list object"
   ]
  },
  {
   "cell_type": "code",
   "execution_count": 7,
   "id": "de2601a3-a5a4-4636-af90-b5103eac2e67",
   "metadata": {},
   "outputs": [],
   "source": [
    "a = [1,2,4]\n",
    "b = [\"cat\",\"dog\",\"mouse\"]"
   ]
  },
  {
   "cell_type": "code",
   "execution_count": 8,
   "id": "b6575e3c-d298-4e3b-ae93-e3009baf1433",
   "metadata": {},
   "outputs": [],
   "source": [
    "a.append(b) # this appends a list into the other list"
   ]
  },
  {
   "cell_type": "code",
   "execution_count": 9,
   "id": "ba5dff0d-d0d3-428f-b64b-8dfb4659a8cc",
   "metadata": {},
   "outputs": [
    {
     "data": {
      "text/plain": [
       "[1, 2, 4, ['cat', 'dog', 'mouse']]"
      ]
     },
     "execution_count": 9,
     "metadata": {},
     "output_type": "execute_result"
    }
   ],
   "source": [
    "a"
   ]
  },
  {
   "cell_type": "code",
   "execution_count": 10,
   "id": "5d87174a-7db6-4d5e-adb4-3b08f067df05",
   "metadata": {},
   "outputs": [
    {
     "data": {
      "text/plain": [
       "['cat', 'dog', 'mouse']"
      ]
     },
     "execution_count": 10,
     "metadata": {},
     "output_type": "execute_result"
    }
   ],
   "source": [
    "b"
   ]
  },
  {
   "cell_type": "code",
   "execution_count": null,
   "id": "cb62c75f-a0df-4226-b676-f1ab15d5ac34",
   "metadata": {},
   "outputs": [],
   "source": [
    "#you can also apend a item in the end of the list "
   ]
  },
  {
   "cell_type": "code",
   "execution_count": 13,
   "id": "4c23a6a0-5730-466c-8095-f88c10501c10",
   "metadata": {},
   "outputs": [],
   "source": [
    "b.append(\"extra\")"
   ]
  },
  {
   "cell_type": "code",
   "execution_count": 14,
   "id": "6a2cae15-9367-4030-a769-0b75ea5ef9b6",
   "metadata": {},
   "outputs": [
    {
     "data": {
      "text/plain": [
       "['cat', 'dog', 'mouse', 'extra']"
      ]
     },
     "execution_count": 14,
     "metadata": {},
     "output_type": "execute_result"
    }
   ],
   "source": [
    "b"
   ]
  },
  {
   "cell_type": "code",
   "execution_count": 15,
   "id": "79432cc0-847c-409c-8540-be77ef92947a",
   "metadata": {},
   "outputs": [],
   "source": [
    "# you can use slicing and endixing same as in strings"
   ]
  },
  {
   "cell_type": "code",
   "execution_count": 16,
   "id": "ae99e19b-11d9-41fb-8497-6acf896424cc",
   "metadata": {},
   "outputs": [],
   "source": [
    "A = [1,2,3,4]"
   ]
  },
  {
   "cell_type": "code",
   "execution_count": 17,
   "id": "6cac8137-985e-4a94-991f-979596728071",
   "metadata": {},
   "outputs": [
    {
     "data": {
      "text/plain": [
       "1"
      ]
     },
     "execution_count": 17,
     "metadata": {},
     "output_type": "execute_result"
    }
   ],
   "source": [
    "A[0]"
   ]
  },
  {
   "cell_type": "code",
   "execution_count": 18,
   "id": "8457ee88-b9bc-4b71-bce5-5c37b0cd2583",
   "metadata": {},
   "outputs": [
    {
     "data": {
      "text/plain": [
       "[3, 4]"
      ]
     },
     "execution_count": 18,
     "metadata": {},
     "output_type": "execute_result"
    }
   ],
   "source": [
    "A[2:]"
   ]
  },
  {
   "cell_type": "code",
   "execution_count": null,
   "id": "ff6312bf-9f3d-4f51-b64f-0f6ac5d0cdb2",
   "metadata": {},
   "outputs": [],
   "source": [
    "#you can also use the sort and reverse methods on lists (this mutates the list)"
   ]
  },
  {
   "cell_type": "code",
   "execution_count": 23,
   "id": "8333b377-5668-4175-9215-dc32b380b5de",
   "metadata": {},
   "outputs": [],
   "source": [
    "A.reverse()"
   ]
  },
  {
   "cell_type": "code",
   "execution_count": 24,
   "id": "b0c56303-53a3-483e-a2cf-1fa11998b916",
   "metadata": {},
   "outputs": [
    {
     "data": {
      "text/plain": [
       "[4, 3, 2, 1]"
      ]
     },
     "execution_count": 24,
     "metadata": {},
     "output_type": "execute_result"
    }
   ],
   "source": [
    "A"
   ]
  },
  {
   "cell_type": "code",
   "execution_count": 25,
   "id": "fc5b74ac-4b4c-4a76-b82d-86bc569419a1",
   "metadata": {},
   "outputs": [],
   "source": [
    "A.sort()"
   ]
  },
  {
   "cell_type": "code",
   "execution_count": 26,
   "id": "9c257849-dc8d-4426-a588-1ac795173ed3",
   "metadata": {},
   "outputs": [
    {
     "data": {
      "text/plain": [
       "[1, 2, 3, 4]"
      ]
     },
     "execution_count": 26,
     "metadata": {},
     "output_type": "execute_result"
    }
   ],
   "source": [
    "A"
   ]
  },
  {
   "cell_type": "code",
   "execution_count": 27,
   "id": "d53c5f59-96c3-49bf-bb90-eeb618c7f3d2",
   "metadata": {},
   "outputs": [],
   "source": [
    "#you can use the pop methode to remove an item from a list"
   ]
  },
  {
   "cell_type": "code",
   "execution_count": 28,
   "id": "b62b99f4-d7cf-4e4a-b210-93ec24e0da31",
   "metadata": {},
   "outputs": [
    {
     "data": {
      "text/plain": [
       "2"
      ]
     },
     "execution_count": 28,
     "metadata": {},
     "output_type": "execute_result"
    }
   ],
   "source": [
    "A.pop(1)"
   ]
  },
  {
   "cell_type": "code",
   "execution_count": 29,
   "id": "8ce0d4c6-638f-4650-80ab-075c79d26224",
   "metadata": {},
   "outputs": [
    {
     "data": {
      "text/plain": [
       "[1, 3, 4]"
      ]
     },
     "execution_count": 29,
     "metadata": {},
     "output_type": "execute_result"
    }
   ],
   "source": [
    "A"
   ]
  },
  {
   "cell_type": "code",
   "execution_count": null,
   "id": "fce0cc3a-8823-4934-b49a-e4c7428d34b0",
   "metadata": {},
   "outputs": [],
   "source": []
  }
 ],
 "metadata": {
  "kernelspec": {
   "display_name": "Python 3 (ipykernel)",
   "language": "python",
   "name": "python3"
  },
  "language_info": {
   "codemirror_mode": {
    "name": "ipython",
    "version": 3
   },
   "file_extension": ".py",
   "mimetype": "text/x-python",
   "name": "python",
   "nbconvert_exporter": "python",
   "pygments_lexer": "ipython3",
   "version": "3.12.7"
  }
 },
 "nbformat": 4,
 "nbformat_minor": 5
}
