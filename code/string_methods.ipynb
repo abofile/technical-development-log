{
 "cells": [
  {
   "cell_type": "code",
   "execution_count": 1,
   "id": "45abd91a-f2fe-48a8-9e51-34ab30f7c0e7",
   "metadata": {},
   "outputs": [],
   "source": [
    "# string methodes"
   ]
  },
  {
   "cell_type": "code",
   "execution_count": 2,
   "id": "a22cd3c5-0018-4c5a-af26-d9c8e1df56ab",
   "metadata": {},
   "outputs": [],
   "source": [
    "x = \"Hello world\""
   ]
  },
  {
   "cell_type": "code",
   "execution_count": 3,
   "id": "0d121288-a13d-4ae2-8f13-ce610e4b5348",
   "metadata": {},
   "outputs": [
    {
     "data": {
      "text/plain": [
       "'HELLO WORLD'"
      ]
     },
     "execution_count": 3,
     "metadata": {},
     "output_type": "execute_result"
    }
   ],
   "source": [
    "x.upper() # this turns every thing to a upper case"
   ]
  },
  {
   "cell_type": "code",
   "execution_count": 4,
   "id": "3f4ebf79-6e42-44b2-9ab2-29536bf4db17",
   "metadata": {},
   "outputs": [
    {
     "data": {
      "text/plain": [
       "<function str.upper()>"
      ]
     },
     "execution_count": 4,
     "metadata": {},
     "output_type": "execute_result"
    }
   ],
   "source": [
    "# if the methode dosen't have () it will not run but just show the function\n",
    "x.upper"
   ]
  },
  {
   "cell_type": "code",
   "execution_count": 5,
   "id": "53c1825f-11a8-405a-9442-49766bc19888",
   "metadata": {},
   "outputs": [
    {
     "data": {
      "text/plain": [
       "<function str.lower()>"
      ]
     },
     "execution_count": 5,
     "metadata": {},
     "output_type": "execute_result"
    }
   ],
   "source": [
    "x.lower # this will turn every thing into lower case"
   ]
  },
  {
   "cell_type": "code",
   "execution_count": 6,
   "id": "250fa4fe-45d4-413e-b882-439d4c263cce",
   "metadata": {},
   "outputs": [],
   "source": [
    "# running the function dosen't redefine the string you have to reassing the varriable to do so  "
   ]
  },
  {
   "cell_type": "code",
   "execution_count": 7,
   "id": "b6398677-c24b-4df4-9577-63b82609f1d7",
   "metadata": {},
   "outputs": [],
   "source": [
    "x = x.upper()"
   ]
  },
  {
   "cell_type": "code",
   "execution_count": 8,
   "id": "741eddc1-508f-4cbc-ab62-568c1ef3344e",
   "metadata": {},
   "outputs": [
    {
     "data": {
      "text/plain": [
       "'HELLO WORLD'"
      ]
     },
     "execution_count": 8,
     "metadata": {},
     "output_type": "execute_result"
    }
   ],
   "source": [
    "x"
   ]
  },
  {
   "cell_type": "code",
   "execution_count": 12,
   "id": "fde8c819-db39-4339-bfff-b02f37bfc98d",
   "metadata": {},
   "outputs": [
    {
     "data": {
      "text/plain": [
       "'hello world'"
      ]
     },
     "execution_count": 12,
     "metadata": {},
     "output_type": "execute_result"
    }
   ],
   "source": [
    "x.lower()"
   ]
  },
  {
   "cell_type": "code",
   "execution_count": 13,
   "id": "a6a715b8-1641-428d-b4d4-6ee0bb08eecc",
   "metadata": {},
   "outputs": [
    {
     "data": {
      "text/plain": [
       "'HELLO WORLD'"
      ]
     },
     "execution_count": 13,
     "metadata": {},
     "output_type": "execute_result"
    }
   ],
   "source": [
    "x "
   ]
  },
  {
   "cell_type": "code",
   "execution_count": 14,
   "id": "70539dd3-636b-4481-94ca-451a79dfa6f9",
   "metadata": {},
   "outputs": [],
   "source": [
    "x = x.lower()"
   ]
  },
  {
   "cell_type": "code",
   "execution_count": 15,
   "id": "5f986fe0-6414-46e3-bb8f-dad08f00ffd1",
   "metadata": {},
   "outputs": [
    {
     "data": {
      "text/plain": [
       "'hello world'"
      ]
     },
     "execution_count": 15,
     "metadata": {},
     "output_type": "execute_result"
    }
   ],
   "source": [
    "x"
   ]
  },
  {
   "cell_type": "code",
   "execution_count": null,
   "id": "f952fead-1c91-485f-b62f-d2d5d80b355a",
   "metadata": {},
   "outputs": [],
   "source": [
    "# .split splists the string into a list you can leave the function blank to split the spaced word or chose where to split"
   ]
  },
  {
   "cell_type": "code",
   "execution_count": 16,
   "id": "fb3da60a-c993-45f3-b637-12c413f8f4d2",
   "metadata": {},
   "outputs": [
    {
     "data": {
      "text/plain": [
       "['hello', 'world']"
      ]
     },
     "execution_count": 16,
     "metadata": {},
     "output_type": "execute_result"
    }
   ],
   "source": [
    "x.split()"
   ]
  },
  {
   "cell_type": "code",
   "execution_count": 19,
   "id": "b41466bc-c15c-4c7a-910d-ebf6b1c9bd60",
   "metadata": {},
   "outputs": [],
   "source": [
    "s = \"this is a string\""
   ]
  },
  {
   "cell_type": "code",
   "execution_count": 21,
   "id": "7c03c5b2-2f2c-4d91-af20-065f1c2b117f",
   "metadata": {},
   "outputs": [
    {
     "data": {
      "text/plain": [
       "['th', 's ', 's a str', 'ng']"
      ]
     },
     "execution_count": 21,
     "metadata": {},
     "output_type": "execute_result"
    }
   ],
   "source": [
    "s.split(\"i\")"
   ]
  },
  {
   "cell_type": "code",
   "execution_count": null,
   "id": "edb6f90b-c934-438f-b651-7691ae7ad9dc",
   "metadata": {},
   "outputs": [],
   "source": []
  }
 ],
 "metadata": {
  "kernelspec": {
   "display_name": "Python 3 (ipykernel)",
   "language": "python",
   "name": "python3"
  },
  "language_info": {
   "codemirror_mode": {
    "name": "ipython",
    "version": 3
   },
   "file_extension": ".py",
   "mimetype": "text/x-python",
   "name": "python",
   "nbconvert_exporter": "python",
   "pygments_lexer": "ipython3",
   "version": "3.12.7"
  }
 },
 "nbformat": 4,
 "nbformat_minor": 5
}
