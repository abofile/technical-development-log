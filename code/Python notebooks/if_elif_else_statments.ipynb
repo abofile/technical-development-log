{
 "cells": [
  {
   "cell_type": "code",
   "execution_count": null,
   "id": "86dd2ace-9bfc-4742-99cb-40757da40a39",
   "metadata": {},
   "outputs": [],
   "source": [
    "# if , else , elif statments"
   ]
  },
  {
   "cell_type": "code",
   "execution_count": null,
   "id": "97492da7-b097-402d-8e41-2df5b1137e5f",
   "metadata": {},
   "outputs": [],
   "source": [
    "# if statmets allows exuction of code while a statment is true i will make make an example of a alarm during high temp"
   ]
  },
  {
   "cell_type": "code",
   "execution_count": 1,
   "id": "3a70e91b-47f8-4c23-bc4c-5df57852c462",
   "metadata": {},
   "outputs": [
    {
     "name": "stdout",
     "output_type": "stream",
     "text": [
      "HIGH TEMP\n"
     ]
    }
   ],
   "source": [
    "temp = 50\n",
    "if temp >= 50:\n",
    "    print(\"HIGH TEMP\")\n",
    "    "
   ]
  },
  {
   "cell_type": "code",
   "execution_count": 2,
   "id": "ed29e6be-0070-4df3-a6c7-1ea86988cd17",
   "metadata": {},
   "outputs": [],
   "source": [
    "# now i will demonstarte else statment it's what gets excucted when the if statment is false"
   ]
  },
  {
   "cell_type": "code",
   "execution_count": 3,
   "id": "837a3839-506b-4f62-8e97-bb8da3e51a48",
   "metadata": {},
   "outputs": [
    {
     "name": "stdout",
     "output_type": "stream",
     "text": [
      "Normal temp\n"
     ]
    }
   ],
   "source": [
    "temp = 30\n",
    "if temp >= 50:\n",
    "    print(\"HIGH TEMP\")\n",
    "else:\n",
    "    print(\"Normal temp\")"
   ]
  },
  {
   "cell_type": "code",
   "execution_count": null,
   "id": "929b96ea-9828-4015-bfea-2ff5490c1dfc",
   "metadata": {},
   "outputs": [],
   "source": [
    "# now will add elif which is another condition it will run when if is false"
   ]
  },
  {
   "cell_type": "code",
   "execution_count": 4,
   "id": "a97c780f-112e-4d13-a2e8-9f0bdee8d1f3",
   "metadata": {},
   "outputs": [
    {
     "name": "stdout",
     "output_type": "stream",
     "text": [
      "Temp is reaching critical level\n"
     ]
    }
   ],
   "source": [
    "temp = 44\n",
    "if temp >= 50:\n",
    "    print(\"HIGH TEMP\")\n",
    "elif temp >= 40:\n",
    "    print(\"Temp is reaching critical level\")\n",
    "else:\n",
    "    print(\"Normal temp\")"
   ]
  },
  {
   "cell_type": "code",
   "execution_count": null,
   "id": "e277018f-f2df-4f7e-91dc-111f9eb05ff1",
   "metadata": {},
   "outputs": [],
   "source": [
    "# note that you have to use the correct indentation which is how much white space you should use or the code can miss behave"
   ]
  }
 ],
 "metadata": {
  "kernelspec": {
   "display_name": "Python 3 (ipykernel)",
   "language": "python",
   "name": "python3"
  },
  "language_info": {
   "codemirror_mode": {
    "name": "ipython",
    "version": 3
   },
   "file_extension": ".py",
   "mimetype": "text/x-python",
   "name": "python",
   "nbconvert_exporter": "python",
   "pygments_lexer": "ipython3",
   "version": "3.12.7"
  }
 },
 "nbformat": 4,
 "nbformat_minor": 5
}
