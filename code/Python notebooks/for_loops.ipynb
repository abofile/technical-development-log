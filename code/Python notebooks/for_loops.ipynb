{
 "cells": [
  {
   "cell_type": "code",
   "execution_count": null,
   "id": "3e5a3023-d754-4062-aa5e-aaaa93e43dd8",
   "metadata": {},
   "outputs": [],
   "source": [
    "# A for loop is a control structure used in programming to repeat a block of code a specific number of times.\n",
    "\n",
    "# In Python, it’s commonly used to iterate over a sequence (like a list, string, or range)."
   ]
  },
  {
   "cell_type": "code",
   "execution_count": 1,
   "id": "6d3a74fc-d401-4e20-a15f-353d1b77edc6",
   "metadata": {},
   "outputs": [
    {
     "name": "stdout",
     "output_type": "stream",
     "text": [
      "0\n",
      "1\n",
      "2\n",
      "3\n",
      "4\n",
      "5\n",
      "6\n",
      "7\n",
      "8\n",
      "9\n"
     ]
    }
   ],
   "source": [
    "for i in range(10):\n",
    "    print(i)"
   ]
  },
  {
   "cell_type": "code",
   "execution_count": null,
   "id": "955b903a-b6f6-4eb0-8a56-d4c5be13e45a",
   "metadata": {},
   "outputs": [],
   "source": [
    "# The space after the for in a for loop is where you define the loop variable — \n",
    "# The name that will represent each item in the sequence during each loop iteration.\n",
    "# It can be anything you want "
   ]
  },
  {
   "cell_type": "code",
   "execution_count": 2,
   "id": "a1dbb5ea-1577-462f-bb61-7a388911dd0a",
   "metadata": {},
   "outputs": [
    {
     "name": "stdout",
     "output_type": "stream",
     "text": [
      "0\n",
      "1\n",
      "2\n",
      "3\n",
      "4\n"
     ]
    }
   ],
   "source": [
    "for _ in range(5):\n",
    "    print(_)"
   ]
  },
  {
   "cell_type": "code",
   "execution_count": 3,
   "id": "d853a2c4-6701-40b8-944a-d747da28bbcd",
   "metadata": {},
   "outputs": [],
   "source": [
    "List1 = list(range(10))"
   ]
  },
  {
   "cell_type": "code",
   "execution_count": 4,
   "id": "168707b0-e4d4-4147-acda-45f1c07aa65b",
   "metadata": {},
   "outputs": [
    {
     "data": {
      "text/plain": [
       "[0, 1, 2, 3, 4, 5, 6, 7, 8, 9]"
      ]
     },
     "execution_count": 4,
     "metadata": {},
     "output_type": "execute_result"
    }
   ],
   "source": [
    "List1 "
   ]
  },
  {
   "cell_type": "code",
   "execution_count": 5,
   "id": "608f43a5-4869-4ec7-abeb-bef3c2f68c94",
   "metadata": {},
   "outputs": [
    {
     "name": "stdout",
     "output_type": "stream",
     "text": [
      "0\n",
      "1\n",
      "2\n",
      "3\n",
      "4\n",
      "5\n",
      "6\n",
      "7\n",
      "8\n",
      "9\n"
     ]
    }
   ],
   "source": [
    "for _ in List1:\n",
    "    print(_)"
   ]
  },
  {
   "cell_type": "code",
   "execution_count": 6,
   "id": "6ebbe1b2-d746-477e-a0f5-3dda3d5e8dcb",
   "metadata": {},
   "outputs": [],
   "source": [
    "# we can combine other statements with for looops "
   ]
  },
  {
   "cell_type": "code",
   "execution_count": 8,
   "id": "52e985fa-9489-4b25-8c4e-186bd12edd76",
   "metadata": {},
   "outputs": [
    {
     "name": "stdout",
     "output_type": "stream",
     "text": [
      "Even number:0\n",
      "Odd number:1\n",
      "Even number:2\n",
      "Odd number:3\n",
      "Even number:4\n",
      "Odd number:5\n",
      "Even number:6\n",
      "Odd number:7\n",
      "Even number:8\n",
      "Odd number:9\n"
     ]
    }
   ],
   "source": [
    "for num in List1:\n",
    "    if num % 2 == 0:\n",
    "        print(f'Even number:{num}')\n",
    "    else:\n",
    "        print(f'Odd number:{num}')"
   ]
  },
  {
   "cell_type": "code",
   "execution_count": 9,
   "id": "f60b4be0-f566-4a4f-8440-63279977d4df",
   "metadata": {},
   "outputs": [],
   "source": [
    "# we can use addition with for loops"
   ]
  },
  {
   "cell_type": "code",
   "execution_count": 10,
   "id": "9729a8f4-d5eb-482f-80fc-18979eca212a",
   "metadata": {},
   "outputs": [],
   "source": [
    "list_sum = 0\n",
    "\n",
    "for num in List1:\n",
    "    list_sum = list_sum + num"
   ]
  },
  {
   "cell_type": "code",
   "execution_count": 11,
   "id": "704291f6-d237-4f1a-b27f-392c028291e6",
   "metadata": {},
   "outputs": [
    {
     "data": {
      "text/plain": [
       "45"
      ]
     },
     "execution_count": 11,
     "metadata": {},
     "output_type": "execute_result"
    }
   ],
   "source": [
    "list_sum"
   ]
  },
  {
   "cell_type": "code",
   "execution_count": 12,
   "id": "2ef52a3c-3931-44f4-88b3-f0430c308da1",
   "metadata": {},
   "outputs": [],
   "source": [
    "# tuple unpacking"
   ]
  },
  {
   "cell_type": "code",
   "execution_count": 13,
   "id": "1cf2dab2-0351-4ef5-bc68-a9de4e6a44be",
   "metadata": {},
   "outputs": [],
   "source": [
    "t = [(1,2),(3,4),(5,6)]"
   ]
  },
  {
   "cell_type": "code",
   "execution_count": 15,
   "id": "74a00978-9de6-4095-aaf8-19fb970dceec",
   "metadata": {},
   "outputs": [
    {
     "name": "stdout",
     "output_type": "stream",
     "text": [
      "(1, 2)\n",
      "(3, 4)\n",
      "(5, 6)\n"
     ]
    }
   ],
   "source": [
    "for _ in t:\n",
    "    print(_)"
   ]
  },
  {
   "cell_type": "code",
   "execution_count": 16,
   "id": "1b873757-1a32-44bd-83bd-0077ee7312db",
   "metadata": {},
   "outputs": [
    {
     "name": "stdout",
     "output_type": "stream",
     "text": [
      "1\n",
      "3\n",
      "5\n"
     ]
    }
   ],
   "source": [
    "for a,b in t:\n",
    "    print(a)"
   ]
  },
  {
   "cell_type": "code",
   "execution_count": 17,
   "id": "b955e2af-adf4-467a-9c4f-36a143842e86",
   "metadata": {},
   "outputs": [
    {
     "name": "stdout",
     "output_type": "stream",
     "text": [
      "2\n",
      "4\n",
      "6\n"
     ]
    }
   ],
   "source": [
    "for a,b in t:\n",
    "    print(b)"
   ]
  },
  {
   "cell_type": "code",
   "execution_count": null,
   "id": "13e5d631-59bd-4f81-8a19-acad3a07e0ae",
   "metadata": {},
   "outputs": [],
   "source": [
    "# for dictinories it will only itreat through the keys only.\n",
    "# we have to use dict methods .key .values .items"
   ]
  },
  {
   "cell_type": "code",
   "execution_count": 18,
   "id": "ed1bc3a9-4d6e-4300-a33d-92048b3f648d",
   "metadata": {},
   "outputs": [],
   "source": [
    "d = {'k1':1,'k2':2,'k3':3}"
   ]
  },
  {
   "cell_type": "code",
   "execution_count": 19,
   "id": "bc79f4c8-dbd3-49a2-b976-c2897a82ea20",
   "metadata": {},
   "outputs": [
    {
     "name": "stdout",
     "output_type": "stream",
     "text": [
      "k1\n",
      "k2\n",
      "k3\n"
     ]
    }
   ],
   "source": [
    "for _ in d:\n",
    "    print(_)"
   ]
  },
  {
   "cell_type": "code",
   "execution_count": 21,
   "id": "2d3fb820-3407-4db2-9ad8-6cd5f29e48ba",
   "metadata": {},
   "outputs": [
    {
     "name": "stdout",
     "output_type": "stream",
     "text": [
      "('k1', 1)\n",
      "('k2', 2)\n",
      "('k3', 3)\n"
     ]
    }
   ],
   "source": [
    "# this will print both key and value\n",
    "for _ in d.items():\n",
    "    print(_)"
   ]
  },
  {
   "cell_type": "code",
   "execution_count": 25,
   "id": "68939d27-782b-4af9-8701-77039e7deea4",
   "metadata": {},
   "outputs": [
    {
     "name": "stdout",
     "output_type": "stream",
     "text": [
      "k1\n",
      "k2\n",
      "k3\n"
     ]
    }
   ],
   "source": [
    "for _ in d.keys():\n",
    "    print(_)"
   ]
  },
  {
   "cell_type": "code",
   "execution_count": 24,
   "id": "21b148e8-6d90-46cf-9d1c-6813fc80bc30",
   "metadata": {},
   "outputs": [
    {
     "name": "stdout",
     "output_type": "stream",
     "text": [
      "1\n",
      "2\n",
      "3\n"
     ]
    }
   ],
   "source": [
    "for _ in d.values():\n",
    "    print(_)"
   ]
  },
  {
   "cell_type": "code",
   "execution_count": null,
   "id": "be1fdfb1-0532-45c7-b56d-029b8235b15f",
   "metadata": {},
   "outputs": [],
   "source": []
  }
 ],
 "metadata": {
  "kernelspec": {
   "display_name": "Python 3 (ipykernel)",
   "language": "python",
   "name": "python3"
  },
  "language_info": {
   "codemirror_mode": {
    "name": "ipython",
    "version": 3
   },
   "file_extension": ".py",
   "mimetype": "text/x-python",
   "name": "python",
   "nbconvert_exporter": "python",
   "pygments_lexer": "ipython3",
   "version": "3.12.7"
  }
 },
 "nbformat": 4,
 "nbformat_minor": 5
}
