{
 "cells": [
  {
   "cell_type": "code",
   "execution_count": 1,
   "id": "ff479550-4b1f-4ed7-a774-9df09f1a87d2",
   "metadata": {},
   "outputs": [],
   "source": [
    "#Dictionary: A collection of key-value pairs where each key is unique, like a real-life dictionary where a word (key) maps to a definition (value)."
   ]
  },
  {
   "cell_type": "code",
   "execution_count": 6,
   "id": "f6dfda60-e2b6-4c26-b072-74de19ced5d3",
   "metadata": {},
   "outputs": [],
   "source": [
    "key_list = {\"key1\":123,\"key2\":3455,\"key3\":\"enter\"}"
   ]
  },
  {
   "cell_type": "code",
   "execution_count": 8,
   "id": "cee6e4dd-4f9a-4879-8d4a-5d4a25a3c3c5",
   "metadata": {},
   "outputs": [
    {
     "data": {
      "text/plain": [
       "123"
      ]
     },
     "execution_count": 8,
     "metadata": {},
     "output_type": "execute_result"
    }
   ],
   "source": [
    "key_list[\"key1\"]"
   ]
  },
  {
   "cell_type": "code",
   "execution_count": 9,
   "id": "467a91c6-540d-4b9d-ba10-3a9eb8bf95cd",
   "metadata": {},
   "outputs": [],
   "source": [
    "# you can have other data types in the dic"
   ]
  },
  {
   "cell_type": "code",
   "execution_count": 15,
   "id": "46526917-6c84-4f17-a1f4-e3ebab82c97b",
   "metadata": {},
   "outputs": [],
   "source": [
    "a = {\"k1\":[1,2,3],\"k2\":(8,9,0),\"k3\":\"key\",\"k4\":12345}"
   ]
  },
  {
   "cell_type": "code",
   "execution_count": 16,
   "id": "84e18f72-3e94-4e61-869d-694032c2d374",
   "metadata": {},
   "outputs": [
    {
     "data": {
      "text/plain": [
       "(8, 9, 0)"
      ]
     },
     "execution_count": 16,
     "metadata": {},
     "output_type": "execute_result"
    }
   ],
   "source": [
    "a[\"k2\"]"
   ]
  },
  {
   "cell_type": "code",
   "execution_count": 17,
   "id": "064314ca-153b-40fd-bdc0-23629cfd037e",
   "metadata": {},
   "outputs": [
    {
     "data": {
      "text/plain": [
       "9"
      ]
     },
     "execution_count": 17,
     "metadata": {},
     "output_type": "execute_result"
    }
   ],
   "source": [
    "a[\"k2\"][1] # this is how to call a chosen index in a dict"
   ]
  },
  {
   "cell_type": "code",
   "execution_count": 11,
   "id": "f945201d-de82-46f5-9f61-32b28a52de57",
   "metadata": {},
   "outputs": [
    {
     "data": {
      "text/plain": [
       "{'k1': [1, 2, 3], 'k2': (8, 9, 0), 'k3': 'key', 'k4': 12345}"
      ]
     },
     "execution_count": 11,
     "metadata": {},
     "output_type": "execute_result"
    }
   ],
   "source": [
    "a"
   ]
  },
  {
   "cell_type": "code",
   "execution_count": 12,
   "id": "066cf3fb-0f05-4df5-b19b-ad0353635ca9",
   "metadata": {},
   "outputs": [],
   "source": [
    "# you can nest another dict in the same dict"
   ]
  },
  {
   "cell_type": "code",
   "execution_count": 13,
   "id": "8dc606eb-f52e-47e1-a945-bb2c277a5137",
   "metadata": {},
   "outputs": [],
   "source": [
    "a = {\"k1\":[1,2,3],\"k2\":(8,9,0),\"k3\":\"key\",\"k4\":12345,\"nest\":{\"nkey\":90900}}"
   ]
  },
  {
   "cell_type": "code",
   "execution_count": 14,
   "id": "470981bc-bc15-4f89-9281-0d48b3b376b0",
   "metadata": {},
   "outputs": [
    {
     "data": {
      "text/plain": [
       "90900"
      ]
     },
     "execution_count": 14,
     "metadata": {},
     "output_type": "execute_result"
    }
   ],
   "source": [
    "a[\"nest\"][\"nkey\"] #this is how to call it multiaple dict can be nested follow the same call path to callem"
   ]
  },
  {
   "cell_type": "code",
   "execution_count": null,
   "id": "971e1116-a730-4f57-a23f-0d01e15fdd32",
   "metadata": {},
   "outputs": [],
   "source": []
  },
  {
   "cell_type": "code",
   "execution_count": null,
   "id": "f4620374-28af-4902-b1ce-080b1778a990",
   "metadata": {},
   "outputs": [],
   "source": [
    "#now we will discuss tuples"
   ]
  },
  {
   "cell_type": "code",
   "execution_count": 18,
   "id": "c59d8551-1ddc-496e-8e14-b69cb6742382",
   "metadata": {},
   "outputs": [],
   "source": [
    "# An ordered, imutable collection of items. It's like a list, but you can't mutate it after creation. Example: (\"apple\", \"banana\", \"cherry\")"
   ]
  },
  {
   "cell_type": "code",
   "execution_count": 19,
   "id": "2f552951-e7e5-4d41-8ddd-80c0afb58621",
   "metadata": {},
   "outputs": [],
   "source": [
    "# you can index and slice them and use the compatble methods with them and they hold data types even nested tuples and list dict str int etc"
   ]
  },
  {
   "cell_type": "code",
   "execution_count": 20,
   "id": "149b62cd-5a8a-4296-9ce2-625798be06f0",
   "metadata": {},
   "outputs": [],
   "source": [
    "t = (1,2,3) # we will try here to mutate and see what happens"
   ]
  },
  {
   "cell_type": "code",
   "execution_count": 21,
   "id": "abe01391-ea7f-4ad0-a8c9-428d1f2d60be",
   "metadata": {},
   "outputs": [
    {
     "ename": "AttributeError",
     "evalue": "'tuple' object has no attribute 'append'",
     "output_type": "error",
     "traceback": [
      "\u001b[31m---------------------------------------------------------------------------\u001b[39m",
      "\u001b[31mAttributeError\u001b[39m                            Traceback (most recent call last)",
      "\u001b[36mCell\u001b[39m\u001b[36m \u001b[39m\u001b[32mIn[21]\u001b[39m\u001b[32m, line 1\u001b[39m\n\u001b[32m----> \u001b[39m\u001b[32m1\u001b[39m t.append(\u001b[32m10\u001b[39m)\n",
      "\u001b[31mAttributeError\u001b[39m: 'tuple' object has no attribute 'append'"
     ]
    }
   ],
   "source": [
    "t.append(10)"
   ]
  },
  {
   "cell_type": "code",
   "execution_count": null,
   "id": "52434a6d-e3ba-4532-86e9-66dc79939a8f",
   "metadata": {},
   "outputs": [],
   "source": [
    "# it wont mutate and will produce a eror"
   ]
  },
  {
   "cell_type": "code",
   "execution_count": null,
   "id": "a5ad7997-0577-48cc-bd11-c06862252f6e",
   "metadata": {},
   "outputs": [],
   "source": []
  }
 ],
 "metadata": {
  "kernelspec": {
   "display_name": "Python 3 (ipykernel)",
   "language": "python",
   "name": "python3"
  },
  "language_info": {
   "codemirror_mode": {
    "name": "ipython",
    "version": 3
   },
   "file_extension": ".py",
   "mimetype": "text/x-python",
   "name": "python",
   "nbconvert_exporter": "python",
   "pygments_lexer": "ipython3",
   "version": "3.12.7"
  }
 },
 "nbformat": 4,
 "nbformat_minor": 5
}
