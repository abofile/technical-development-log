{
 "cells": [
  {
   "cell_type": "code",
   "execution_count": null,
   "id": "e3e97ef9-0f42-4745-992e-e30f2b2dd4e9",
   "metadata": {},
   "outputs": [],
   "source": [
    "# formating whith .format mehtod "
   ]
  },
  {
   "cell_type": "code",
   "execution_count": 2,
   "id": "ef6c138d-e207-4f62-9283-fbb440f471df",
   "metadata": {},
   "outputs": [
    {
     "name": "stdout",
     "output_type": "stream",
     "text": [
      "insert some thing some thing\n"
     ]
    }
   ],
   "source": [
    "print(\"insert some thing {}\".format(\"some thing\"))"
   ]
  },
  {
   "cell_type": "code",
   "execution_count": null,
   "id": "bfca432f-322f-4d9b-b72e-38b17d747ca0",
   "metadata": {},
   "outputs": [],
   "source": [
    "# you can also insert based of index position"
   ]
  },
  {
   "cell_type": "code",
   "execution_count": 5,
   "id": "5606c619-58e9-4e60-99d1-16c0d0cca650",
   "metadata": {},
   "outputs": [
    {
     "name": "stdout",
     "output_type": "stream",
     "text": [
      "Year:1904-Month:12-Day:29\n"
     ]
    }
   ],
   "source": [
    "print(\"Year:{2}-Month:{0}-Day:{1}\".format(\"12\",\"29\",\"1904\"))"
   ]
  },
  {
   "cell_type": "code",
   "execution_count": null,
   "id": "6a46d71e-28a5-470e-ac4d-c9921bb6c801",
   "metadata": {},
   "outputs": [],
   "source": [
    "# We can also use variables or keywords to insert"
   ]
  },
  {
   "cell_type": "code",
   "execution_count": 7,
   "id": "d68127fe-b500-4bc6-bd0f-1b141db2eb31",
   "metadata": {},
   "outputs": [
    {
     "name": "stdout",
     "output_type": "stream",
     "text": [
      "I think coding is fun\n"
     ]
    }
   ],
   "source": [
    "print(\"I think {P} {O} {I}\".format(I = \"fun\", P = \"coding\", O = \"is\")) #using keywords will better for readiblty instead checking the index every time"
   ]
  },
  {
   "cell_type": "code",
   "execution_count": null,
   "id": "3d6ac8ba-5bf3-473c-9d5a-e149975908fb",
   "metadata": {},
   "outputs": [],
   "source": []
  },
  {
   "cell_type": "code",
   "execution_count": null,
   "id": "feb3a87c-0e06-40c0-a198-c0fe9633631d",
   "metadata": {},
   "outputs": [],
   "source": [
    "# float formating\n",
    "# Syntax is {Value:Width.Precisionf}"
   ]
  },
  {
   "cell_type": "code",
   "execution_count": 15,
   "id": "67a69d16-2ab8-45e3-a42b-e17da8474dae",
   "metadata": {},
   "outputs": [],
   "source": [
    "r = 100 / 777"
   ]
  },
  {
   "cell_type": "code",
   "execution_count": 14,
   "id": "438f9fa2-6060-43d6-9a29-0b7653a0b95b",
   "metadata": {},
   "outputs": [
    {
     "data": {
      "text/plain": [
       "0.1287001287001287"
      ]
     },
     "execution_count": 14,
     "metadata": {},
     "output_type": "execute_result"
    }
   ],
   "source": [
    "r"
   ]
  },
  {
   "cell_type": "code",
   "execution_count": 23,
   "id": "8bdec778-7d5d-4207-a280-ecc53c9d8d0e",
   "metadata": {},
   "outputs": [
    {
     "name": "stdout",
     "output_type": "stream",
     "text": [
      "rounded number:0.129\n"
     ]
    }
   ],
   "source": [
    "print(\"rounded number:{r:1.3f}\".format(r=r))"
   ]
  },
  {
   "cell_type": "code",
   "execution_count": null,
   "id": "8846562c-70d6-451e-a508-d6b1d8d88647",
   "metadata": {},
   "outputs": [],
   "source": [
    "# f string method is a new method that was intrduced in python 3.6 you can bring outside varaiables immediatly into the string by starting with f\n"
   ]
  },
  {
   "cell_type": "code",
   "execution_count": 24,
   "id": "fb908c33-bc0a-41ec-864b-37afaa41ddc9",
   "metadata": {},
   "outputs": [],
   "source": [
    "name = \"Sam\"\n",
    "age = \"24\""
   ]
  },
  {
   "cell_type": "code",
   "execution_count": 25,
   "id": "4ba1f916-26a0-44f0-b224-6dd5c7169f65",
   "metadata": {},
   "outputs": [
    {
     "name": "stdout",
     "output_type": "stream",
     "text": [
      "My name is Sam i'm 24 years old\n"
     ]
    }
   ],
   "source": [
    "print(f\"My name is {name} i'm {age} years old\")"
   ]
  },
  {
   "cell_type": "code",
   "execution_count": null,
   "id": "2957fea5-cc4b-4b14-96b4-27d6ab075641",
   "metadata": {},
   "outputs": [],
   "source": []
  }
 ],
 "metadata": {
  "kernelspec": {
   "display_name": "Python 3 (ipykernel)",
   "language": "python",
   "name": "python3"
  },
  "language_info": {
   "codemirror_mode": {
    "name": "ipython",
    "version": 3
   },
   "file_extension": ".py",
   "mimetype": "text/x-python",
   "name": "python",
   "nbconvert_exporter": "python",
   "pygments_lexer": "ipython3",
   "version": "3.12.7"
  }
 },
 "nbformat": 4,
 "nbformat_minor": 5
}
