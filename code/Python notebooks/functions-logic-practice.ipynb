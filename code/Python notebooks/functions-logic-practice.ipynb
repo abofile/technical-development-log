{
 "cells": [
  {
   "cell_type": "code",
   "execution_count": 6,
   "id": "64c917eb-ad56-4e68-a647-745c2e237589",
   "metadata": {},
   "outputs": [],
   "source": [
    "def even_numbers(num):\n",
    "    if num % 2 == 0:\n",
    "        return True\n",
    "    else:\n",
    "        return False"
   ]
  },
  {
   "cell_type": "code",
   "execution_count": 7,
   "id": "5444f317-17bb-4378-b5f6-4fb1707d32a3",
   "metadata": {},
   "outputs": [
    {
     "data": {
      "text/plain": [
       "False"
      ]
     },
     "execution_count": 7,
     "metadata": {},
     "output_type": "execute_result"
    }
   ],
   "source": [
    "even_numbers(11)"
   ]
  },
  {
   "cell_type": "code",
   "execution_count": 8,
   "id": "7687d173-d2f7-4e83-868a-207de1f67ce0",
   "metadata": {},
   "outputs": [
    {
     "data": {
      "text/plain": [
       "True"
      ]
     },
     "execution_count": 8,
     "metadata": {},
     "output_type": "execute_result"
    }
   ],
   "source": [
    "even_numbers(2)"
   ]
  },
  {
   "cell_type": "code",
   "execution_count": 4,
   "id": "b2ce2586-c79c-4bfc-91b7-64bd04731471",
   "metadata": {},
   "outputs": [],
   "source": [
    "def check_even_list(num_list):\n",
    "    for num in num_list:\n",
    "        if num % 2 == 0:\n",
    "            return True"
   ]
  },
  {
   "cell_type": "code",
   "execution_count": 5,
   "id": "7fdc2e79-d445-4014-97b7-16d299814e2c",
   "metadata": {},
   "outputs": [
    {
     "data": {
      "text/plain": [
       "True"
      ]
     },
     "execution_count": 5,
     "metadata": {},
     "output_type": "execute_result"
    }
   ],
   "source": [
    "check_even_list([2,4,6,3])"
   ]
  },
  {
   "cell_type": "code",
   "execution_count": 6,
   "id": "08db9bf5-be31-4a70-9999-c5fd8e3cb339",
   "metadata": {},
   "outputs": [],
   "source": [
    "def give_even_num_list(num):\n",
    "    even_number = []\n",
    "\n",
    "    for i in num:\n",
    "        if i % 2 == 0:\n",
    "            even_number.append(i)\n",
    "        else:\n",
    "            pass\n",
    "    return even_number"
   ]
  },
  {
   "cell_type": "code",
   "execution_count": 7,
   "id": "1607713e-7412-41f3-8e20-43196b5cb94b",
   "metadata": {},
   "outputs": [
    {
     "data": {
      "text/plain": [
       "[2, 4, 6, 8, 10]"
      ]
     },
     "execution_count": 7,
     "metadata": {},
     "output_type": "execute_result"
    }
   ],
   "source": [
    "give_even_num_list([1,2,3,4,5,6,7,8,9,10])"
   ]
  },
  {
   "cell_type": "code",
   "execution_count": null,
   "id": "b93c74a2-9b7f-43a2-ac0b-22828d24d759",
   "metadata": {},
   "outputs": [],
   "source": []
  }
 ],
 "metadata": {
  "kernelspec": {
   "display_name": "Python 3 (ipykernel)",
   "language": "python",
   "name": "python3"
  },
  "language_info": {
   "codemirror_mode": {
    "name": "ipython",
    "version": 3
   },
   "file_extension": ".py",
   "mimetype": "text/x-python",
   "name": "python",
   "nbconvert_exporter": "python",
   "pygments_lexer": "ipython3",
   "version": "3.12.7"
  }
 },
 "nbformat": 4,
 "nbformat_minor": 5
}
