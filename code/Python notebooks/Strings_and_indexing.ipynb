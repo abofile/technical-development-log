{
 "cells": [
  {
   "cell_type": "code",
   "execution_count": null,
   "id": "eab2a57d-c123-40b6-b423-94f51ab17175",
   "metadata": {},
   "outputs": [],
   "source": [
    "#strings are text information in code they are defind by \"_\" or'_'"
   ]
  },
  {
   "cell_type": "code",
   "execution_count": 1,
   "id": "9949bf90-7bab-40f7-bfdd-3b0852dc58fe",
   "metadata": {},
   "outputs": [
    {
     "data": {
      "text/plain": [
       "'Hello world'"
      ]
     },
     "execution_count": 1,
     "metadata": {},
     "output_type": "execute_result"
    }
   ],
   "source": [
    "\"Hello world\""
   ]
  },
  {
   "cell_type": "code",
   "execution_count": 2,
   "id": "a39b2771-eaa4-4cd5-83ab-0b1d01214d16",
   "metadata": {},
   "outputs": [
    {
     "data": {
      "text/plain": [
       "'Hello World'"
      ]
     },
     "execution_count": 2,
     "metadata": {},
     "output_type": "execute_result"
    }
   ],
   "source": [
    "'Hello World'"
   ]
  },
  {
   "cell_type": "code",
   "execution_count": null,
   "id": "3ea6db8a-0ef3-4236-9507-9ac0cfe0f3a9",
   "metadata": {},
   "outputs": [],
   "source": [
    "#if you will use quotes in the string you have to chose one of them as the string highlight"
   ]
  },
  {
   "cell_type": "code",
   "execution_count": 3,
   "id": "8e50b003-0264-4ada-b849-e962d00c4d07",
   "metadata": {},
   "outputs": [
    {
     "data": {
      "text/plain": [
       "\"James's phone\""
      ]
     },
     "execution_count": 3,
     "metadata": {},
     "output_type": "execute_result"
    }
   ],
   "source": [
    "\"James's phone\""
   ]
  },
  {
   "cell_type": "code",
   "execution_count": 6,
   "id": "49eba45c-4a4c-4f48-930a-8bdbc3e141c7",
   "metadata": {},
   "outputs": [
    {
     "data": {
      "text/plain": [
       "' He said \"Some thing\"'"
      ]
     },
     "execution_count": 6,
     "metadata": {},
     "output_type": "execute_result"
    }
   ],
   "source": [
    "' He said \"Some thing\"'"
   ]
  },
  {
   "cell_type": "code",
   "execution_count": 8,
   "id": "81f60caf-b38d-4e36-aa8c-eb6760b292a6",
   "metadata": {},
   "outputs": [
    {
     "ename": "SyntaxError",
     "evalue": "unterminated string literal (detected at line 2) (2710122886.py, line 2)",
     "output_type": "error",
     "traceback": [
      "  \u001b[36mCell\u001b[39m\u001b[36m \u001b[39m\u001b[32mIn[8]\u001b[39m\u001b[32m, line 2\u001b[39m\n\u001b[31m    \u001b[39m\u001b[31m'hello' world\"'\u001b[39m\n                 ^\n\u001b[31mSyntaxError\u001b[39m\u001b[31m:\u001b[39m unterminated string literal (detected at line 2)\n"
     ]
    }
   ],
   "source": [
    "#using the qoutes incorectly will return a error\n",
    "'hello' world\"' "
   ]
  },
  {
   "cell_type": "code",
   "execution_count": 11,
   "id": "fa9d8c88-0fe1-42df-883f-cd36be60774f",
   "metadata": {},
   "outputs": [
    {
     "name": "stdout",
     "output_type": "stream",
     "text": [
      "How \n",
      "are you\n",
      "I'm \tgood\n"
     ]
    }
   ],
   "source": [
    "# You can use \\n to print a new line and \\t to tab\n",
    "print(\"How \\nare you\")\n",
    "print(\"I'm \\tgood\")"
   ]
  },
  {
   "cell_type": "code",
   "execution_count": 12,
   "id": "0b462b8b-e411-4ab5-855d-79d24c26ed8f",
   "metadata": {},
   "outputs": [
    {
     "data": {
      "text/plain": [
       "21"
      ]
     },
     "execution_count": 12,
     "metadata": {},
     "output_type": "execute_result"
    }
   ],
   "source": [
    "#length function to mesure the length of a string\n",
    "len(\"I'm doing great today\")"
   ]
  },
  {
   "cell_type": "code",
   "execution_count": 13,
   "id": "8df6a0aa-bf1d-4485-aee3-d27d06042685",
   "metadata": {},
   "outputs": [],
   "source": [
    "# now we will do indexing\n",
    "S = \"Hello World\""
   ]
  },
  {
   "cell_type": "code",
   "execution_count": 20,
   "id": "51a7139c-53e3-4cbd-ad93-e0f898057e69",
   "metadata": {},
   "outputs": [
    {
     "data": {
      "text/plain": [
       "'H'"
      ]
     },
     "execution_count": 20,
     "metadata": {},
     "output_type": "execute_result"
    }
   ],
   "source": [
    "S[0] # strings index start from 0"
   ]
  },
  {
   "cell_type": "code",
   "execution_count": 17,
   "id": "4e41bbd1-7aea-498b-ae52-a5c4989769a4",
   "metadata": {},
   "outputs": [
    {
     "data": {
      "text/plain": [
       "11"
      ]
     },
     "execution_count": 17,
     "metadata": {},
     "output_type": "execute_result"
    }
   ],
   "source": [
    "len(S)\n",
    "#Used the len function to see the last index in the string"
   ]
  },
  {
   "cell_type": "code",
   "execution_count": 19,
   "id": "0d359fb9-3cd4-4d07-a894-5433c090aa1c",
   "metadata": {},
   "outputs": [
    {
     "data": {
      "text/plain": [
       "'d'"
      ]
     },
     "execution_count": 19,
     "metadata": {},
     "output_type": "execute_result"
    }
   ],
   "source": [
    "S[10]"
   ]
  },
  {
   "cell_type": "code",
   "execution_count": 23,
   "id": "007e867e-a7af-4e9a-b79b-cca14eb14c52",
   "metadata": {},
   "outputs": [
    {
     "data": {
      "text/plain": [
       "'d'"
      ]
     },
     "execution_count": 23,
     "metadata": {},
     "output_type": "execute_result"
    }
   ],
   "source": [
    "S[-1] # use the -1 to return the index in reverse"
   ]
  },
  {
   "cell_type": "code",
   "execution_count": 24,
   "id": "86d58c8a-df49-478e-a0a1-414713c3d608",
   "metadata": {},
   "outputs": [
    {
     "data": {
      "text/plain": [
       "'Hello World'"
      ]
     },
     "execution_count": 24,
     "metadata": {},
     "output_type": "execute_result"
    }
   ],
   "source": [
    "# Use : to slice the string from any desired postion or index\n",
    "S[0:]"
   ]
  },
  {
   "cell_type": "code",
   "execution_count": 25,
   "id": "72828193-411c-44e9-92b3-7a82eea10611",
   "metadata": {},
   "outputs": [
    {
     "data": {
      "text/plain": [
       "'llo World'"
      ]
     },
     "execution_count": 25,
     "metadata": {},
     "output_type": "execute_result"
    }
   ],
   "source": [
    "S[2:]"
   ]
  },
  {
   "cell_type": "code",
   "execution_count": 26,
   "id": "ef9bc42d-6bac-4691-b3a7-ccad76219218",
   "metadata": {},
   "outputs": [
    {
     "data": {
      "text/plain": [
       "'Hel'"
      ]
     },
     "execution_count": 26,
     "metadata": {},
     "output_type": "execute_result"
    }
   ],
   "source": [
    "S[:3] # grab every thing until the 3rd letter"
   ]
  },
  {
   "cell_type": "code",
   "execution_count": 28,
   "id": "a2f8d226-929f-44ea-92af-91faf16f759a",
   "metadata": {},
   "outputs": [
    {
     "data": {
      "text/plain": [
       "'Hello Wor'"
      ]
     },
     "execution_count": 28,
     "metadata": {},
     "output_type": "execute_result"
    }
   ],
   "source": [
    "S[:-2] # grab every thing but the last two letters"
   ]
  },
  {
   "cell_type": "code",
   "execution_count": 34,
   "id": "ff22d1bf-03e5-414e-ae2b-9ee9abefab7d",
   "metadata": {},
   "outputs": [
    {
     "data": {
      "text/plain": [
       "'Hello World'"
      ]
     },
     "execution_count": 34,
     "metadata": {},
     "output_type": "execute_result"
    }
   ],
   "source": [
    "S[::] # we can use this to grab every thing"
   ]
  },
  {
   "cell_type": "code",
   "execution_count": 36,
   "id": "c2c8e6e9-761d-48b8-84f2-bb545d949b5b",
   "metadata": {},
   "outputs": [
    {
     "data": {
      "text/plain": [
       "'Hello World'"
      ]
     },
     "execution_count": 36,
     "metadata": {},
     "output_type": "execute_result"
    }
   ],
   "source": [
    "S[::1] # grab every thing but in sterps of one"
   ]
  },
  {
   "cell_type": "code",
   "execution_count": 38,
   "id": "f8d2b2ff-d914-4f30-9168-b603b7937b8b",
   "metadata": {},
   "outputs": [
    {
     "data": {
      "text/plain": [
       "'HloWrd'"
      ]
     },
     "execution_count": 38,
     "metadata": {},
     "output_type": "execute_result"
    }
   ],
   "source": [
    "S[::2] # in steps of two"
   ]
  },
  {
   "cell_type": "code",
   "execution_count": 39,
   "id": "7ce568bd-6337-4c0d-90b0-bdb7ec3ce0ee",
   "metadata": {},
   "outputs": [
    {
     "data": {
      "text/plain": [
       "'dlroW olleH'"
      ]
     },
     "execution_count": 39,
     "metadata": {},
     "output_type": "execute_result"
    }
   ],
   "source": [
    "S[::-1] # this returns the string backwards"
   ]
  },
  {
   "cell_type": "code",
   "execution_count": 41,
   "id": "02da4f5c-787a-4b3e-adff-aba70e0ed1b3",
   "metadata": {},
   "outputs": [
    {
     "data": {
      "text/plain": [
       "'Hello World You are great'"
      ]
     },
     "execution_count": 41,
     "metadata": {},
     "output_type": "execute_result"
    }
   ],
   "source": [
    "# we can add strings\n",
    "S + \" You are great\""
   ]
  },
  {
   "cell_type": "code",
   "execution_count": 42,
   "id": "31630e66-f0ae-4ad9-9f58-7cbae90fdccc",
   "metadata": {},
   "outputs": [],
   "source": [
    "#and we can reassign them\n",
    "S = S + \" You are great\""
   ]
  },
  {
   "cell_type": "code",
   "execution_count": 43,
   "id": "bc39d9f9-b825-401c-aac8-72367dfdf29d",
   "metadata": {},
   "outputs": [
    {
     "data": {
      "text/plain": [
       "'Hello World You are great'"
      ]
     },
     "execution_count": 43,
     "metadata": {},
     "output_type": "execute_result"
    }
   ],
   "source": [
    "S"
   ]
  },
  {
   "cell_type": "code",
   "execution_count": 46,
   "id": "1979d4c4-dd66-4e6f-98b9-281b96af0874",
   "metadata": {},
   "outputs": [
    {
     "data": {
      "text/plain": [
       "'Hello World You are greatHello World You are greatHello World You are greatHello World You are greatHello World You are greatHello World You are greatHello World You are greatHello World You are greatHello World You are greatHello World You are great'"
      ]
     },
     "execution_count": 46,
     "metadata": {},
     "output_type": "execute_result"
    }
   ],
   "source": [
    "#We can use * on strings as well\n",
    "S * 10"
   ]
  },
  {
   "cell_type": "code",
   "execution_count": 47,
   "id": "bd052251-e860-4a3a-bb6d-f9700b846fb3",
   "metadata": {},
   "outputs": [
    {
     "data": {
      "text/plain": [
       "'ZZZZZZZZZZZZZZZZZZZZ'"
      ]
     },
     "execution_count": 47,
     "metadata": {},
     "output_type": "execute_result"
    }
   ],
   "source": [
    "\"Z\" * 20"
   ]
  },
  {
   "cell_type": "code",
   "execution_count": null,
   "id": "88f52427-7e20-4a7e-9e0c-8d080df706b7",
   "metadata": {},
   "outputs": [],
   "source": []
  }
 ],
 "metadata": {
  "kernelspec": {
   "display_name": "Python 3 (ipykernel)",
   "language": "python",
   "name": "python3"
  },
  "language_info": {
   "codemirror_mode": {
    "name": "ipython",
    "version": 3
   },
   "file_extension": ".py",
   "mimetype": "text/x-python",
   "name": "python",
   "nbconvert_exporter": "python",
   "pygments_lexer": "ipython3",
   "version": "3.12.7"
  }
 },
 "nbformat": 4,
 "nbformat_minor": 5
}
