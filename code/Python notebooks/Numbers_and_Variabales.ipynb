{
 "cells": [
  {
   "cell_type": "code",
   "execution_count": 1,
   "id": "ca819cc2-a10a-4658-80bf-731033b83ebf",
   "metadata": {},
   "outputs": [
    {
     "data": {
      "text/plain": [
       "2"
      ]
     },
     "execution_count": 1,
     "metadata": {},
     "output_type": "execute_result"
    }
   ],
   "source": [
    "# Addition\n",
    "1 + 1 \n"
   ]
  },
  {
   "cell_type": "code",
   "execution_count": 2,
   "id": "a8e8675f-8d39-4ab8-b7ac-1d0de83efbca",
   "metadata": {},
   "outputs": [
    {
     "data": {
      "text/plain": [
       "5"
      ]
     },
     "execution_count": 2,
     "metadata": {},
     "output_type": "execute_result"
    }
   ],
   "source": [
    "# Subtraction\n",
    "10 - 5"
   ]
  },
  {
   "cell_type": "code",
   "execution_count": 3,
   "id": "a879d545-b5de-4167-a460-da87909eda53",
   "metadata": {},
   "outputs": [
    {
     "data": {
      "text/plain": [
       "4"
      ]
     },
     "execution_count": 3,
     "metadata": {},
     "output_type": "execute_result"
    }
   ],
   "source": [
    "# Multipication\n",
    "2 * 2"
   ]
  },
  {
   "cell_type": "code",
   "execution_count": 4,
   "id": "79d43760-960d-4ea9-8819-062a89355df7",
   "metadata": {},
   "outputs": [
    {
     "data": {
      "text/plain": [
       "5.0"
      ]
     },
     "execution_count": 4,
     "metadata": {},
     "output_type": "execute_result"
    }
   ],
   "source": [
    "# Division\n",
    "10 / 2"
   ]
  },
  {
   "cell_type": "code",
   "execution_count": 9,
   "id": "10d64828-2f44-4b33-878b-4b3fb14f7c82",
   "metadata": {},
   "outputs": [
    {
     "data": {
      "text/plain": [
       "6"
      ]
     },
     "execution_count": 9,
     "metadata": {},
     "output_type": "execute_result"
    }
   ],
   "source": [
    "# Floor Division ( returns a intger and removes what's after the decimal)\n",
    "13 // 2"
   ]
  },
  {
   "cell_type": "code",
   "execution_count": 10,
   "id": "aea6317e-7f2e-4b75-8d69-498b0013f7a3",
   "metadata": {},
   "outputs": [
    {
     "data": {
      "text/plain": [
       "1"
      ]
     },
     "execution_count": 10,
     "metadata": {},
     "output_type": "execute_result"
    }
   ],
   "source": [
    "# shows the remanider \n",
    "9 % 2"
   ]
  },
  {
   "cell_type": "code",
   "execution_count": 11,
   "id": "5785b4d5-ea0d-4a13-b574-ed3c96b8b35e",
   "metadata": {},
   "outputs": [
    {
     "data": {
      "text/plain": [
       "16"
      ]
     },
     "execution_count": 11,
     "metadata": {},
     "output_type": "execute_result"
    }
   ],
   "source": [
    "# Powers\n",
    "2 ** 4"
   ]
  },
  {
   "cell_type": "code",
   "execution_count": 13,
   "id": "23b5a8c9-330a-4355-bec3-b418c714ae0a",
   "metadata": {},
   "outputs": [
    {
     "data": {
      "text/plain": [
       "2.0"
      ]
     },
     "execution_count": 13,
     "metadata": {},
     "output_type": "execute_result"
    }
   ],
   "source": [
    "# Square roots\n",
    "4 ** 0.5"
   ]
  },
  {
   "cell_type": "code",
   "execution_count": null,
   "id": "7361f61b-6147-492a-9bab-d48e7e7fe1c2",
   "metadata": {},
   "outputs": [],
   "source": [
    "# Under here we will try variable assignment"
   ]
  },
  {
   "cell_type": "code",
   "execution_count": 14,
   "id": "889d6c98-e07c-4840-b5a7-1c51bc95883c",
   "metadata": {},
   "outputs": [],
   "source": [
    "A = 5 "
   ]
  },
  {
   "cell_type": "code",
   "execution_count": 15,
   "id": "4740183b-0e01-4077-a360-646af328a69d",
   "metadata": {},
   "outputs": [],
   "source": [
    "B = 10"
   ]
  },
  {
   "cell_type": "code",
   "execution_count": 17,
   "id": "91797c16-50e8-4d53-954b-e6e38074b5a4",
   "metadata": {},
   "outputs": [
    {
     "data": {
      "text/plain": [
       "15"
      ]
     },
     "execution_count": 17,
     "metadata": {},
     "output_type": "execute_result"
    }
   ],
   "source": [
    "A + B"
   ]
  },
  {
   "cell_type": "code",
   "execution_count": 19,
   "id": "e1f9e55c-33d0-4d21-883f-089b457be739",
   "metadata": {},
   "outputs": [
    {
     "name": "stdout",
     "output_type": "stream",
     "text": [
      "750.0\n"
     ]
    }
   ],
   "source": [
    "# Exampler for application\n",
    "My_income = 5000\n",
    "Tax_rate = 0.15\n",
    "print(My_income * Tax_rate)"
   ]
  },
  {
   "cell_type": "code",
   "execution_count": null,
   "id": "e4c48c86-c5c8-4c85-b014-14d4041ea3e3",
   "metadata": {},
   "outputs": [],
   "source": []
  }
 ],
 "metadata": {
  "kernelspec": {
   "display_name": "Python 3 (ipykernel)",
   "language": "python",
   "name": "python3"
  },
  "language_info": {
   "codemirror_mode": {
    "name": "ipython",
    "version": 3
   },
   "file_extension": ".py",
   "mimetype": "text/x-python",
   "name": "python",
   "nbconvert_exporter": "python",
   "pygments_lexer": "ipython3",
   "version": "3.12.7"
  }
 },
 "nbformat": 4,
 "nbformat_minor": 5
}
